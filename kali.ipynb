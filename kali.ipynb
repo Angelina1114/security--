{
 "cells": [
  {
   "cell_type": "markdown",
   "id": "4e1a06f1",
   "metadata": {},
   "source": [
    "# Kali Linux 教學指南與網路基礎指令\n",
    "\n",
    "本教材將帶您了解 Kali Linux 的基本概念與下載安裝方法。\n",
    "\n",
    "## 目錄\n",
    "1. [Kali Linux 簡介](#1-kali-linux-簡介)\n",
    "2. [下載與安裝指南](#2-下載與安裝指南)\n",
    "3. [安裝後必要配置](#3-安裝後必要配置)"
   ]
  },
  {
   "cell_type": "markdown",
   "id": "8e1c9b2a",
   "metadata": {},
   "source": [
    "## 1. Kali Linux 簡介\n",
    "\n",
    "### 什麼是 Kali Linux？\n",
    "\n",
    "Kali Linux 是一個基於 Debian 的 Linux 發行版，專門為滲透測試和數位鑑識而設計。它由 Offensive Security 公司維護，集成了超過 600 個滲透測試工具。\n",
    "\n",
    "### 主要特色\n",
    "\n",
    "- **專業級滲透測試工具**：內建大量業界標準的安全測試工具\n",
    "- **開源且免費**：完全免費使用，源代碼公開\n",
    "- **定期更新**：工具和系統定期更新，保持最新狀態\n",
    "- **廣泛支援**：支援多種硬體平台和架構\n",
    "- **完整文件**：豐富的官方文件和社群支援\n",
    "\n",
    "### 主要用途\n",
    "\n",
    "1. **滲透測試**：評估系統安全性\n",
    "2. **漏洞評估**：發現和分析系統漏洞\n",
    "3. **數位鑑識**：數位證據收集和分析\n",
    "4. **逆向工程**：軟體逆向分析\n",
    "5. **安全研究**：網路安全研究和開發\n",
    "\n",
    "### 適用對象\n",
    "\n",
    "- 網路安全專業人員\n",
    "- 滲透測試工程師\n",
    "- 資訊安全研究人員\n",
    "- 資安系學生和愛好者\n",
    "- 系統管理員（用於安全評估）"
   ]
  },
  {
   "cell_type": "markdown",
   "id": "868a89f3",
   "metadata": {},
   "source": [
    "## 2. 下載與安裝指南\n",
    "\n",
    "### 系統需求\n",
    "\n",
    "**最低需求：**\n",
    "- RAM: 2GB (推薦 4GB 以上)\n",
    "- 硬碟空間: 20GB (推薦 50GB 以上)\n",
    "- 處理器: x86-64 架構\n",
    "- 網路連線: 用於下載更新和工具\n",
    "\n",
    "**推薦規格：**\n",
    "- RAM: 8GB 以上\n",
    "- 硬碟空間: 100GB 以上\n",
    "- SSD 儲存 (提升性能)\n",
    "- 雙核心處理器以上\n",
    "\n",
    "### 下載步驟（以 VirtualBox 為例）\n",
    "\n",
    "1. 下載 VirtualBox 虛擬機：https://www.virtualbox.org/\n",
    "2. 下載 KalinLinux : https://www.kali.org/get-kali/#kali-virtual-machines"
   ]
  },
  {
   "cell_type": "markdown",
   "id": "f2952369",
   "metadata": {},
   "source": [
    "## 3. 安裝後必要配置\n",
    "\n",
    "### 3.1 系統更新\n",
    "\n",
    "首次開機後，第一步就是更新系統，確保獲得最新的安全修補程式和工具版本："
   ]
  },
  {
   "cell_type": "code",
   "execution_count": null,
   "id": "102ab2c5",
   "metadata": {
    "vscode": {
     "languageId": "bash"
    }
   },
   "outputs": [],
   "source": [
    "# 更新套件庫索引（不會下載）\n",
    "sudo apt update\n",
    "\n",
    "# 升級已安裝的套件\n",
    "sudo apt upgrade -y\n",
    "\n",
    "# 完整系統升級（包含核心更新）\n",
    "sudo apt full-upgrade -y\n",
    "\n",
    "# 清理不需要的套件\n",
    "sudo apt autoremove -y\n",
    "\n",
    "# 清理套件快取\n",
    "sudo apt autoclean"
   ]
  },
  {
   "cell_type": "markdown",
   "id": "1afff539",
   "metadata": {},
   "source": [
    "### 3.2 安裝額外實用工具\n",
    "\n",
    "雖然 Kali Linux 已經內建許多工具，但還是建議安裝一些額外的實用程式："
   ]
  },
  {
   "cell_type": "code",
   "execution_count": null,
   "id": "32470b3b",
   "metadata": {
    "vscode": {
     "languageId": "bash"
    }
   },
   "outputs": [],
   "source": [
    "# VSCode : https://code.visualstudio.com/\n",
    "# Tor : https://www.torproject.org/\n",
    "# Unison（遠端檔案同步） : \n",
    "sudo apt install unison -y # Linux\n",
    "brew install unison        # macOS\n",
    "winget install unison      # Windows"
   ]
  },
  {
   "cell_type": "markdown",
   "id": "d61837a4",
   "metadata": {},
   "source": [
    "### 3.3 建立一般使用者帳戶\n",
    "\n",
    "雖然 Kali Linux 預設以 root 身份執行，但基於安全考量，建議建立一般使用者帳戶進行日常操作："
   ]
  },
  {
   "cell_type": "code",
   "execution_count": null,
   "id": "bc325c80",
   "metadata": {
    "vscode": {
     "languageId": "bash"
    }
   },
   "outputs": [],
   "source": [
    "# 建立新使用者（將 'username' 替換為您想要的使用者名稱）\n",
    "sudo adduser username\n",
    "\n",
    "# 將使用者加入 sudo 群組，允許執行管理員指令\n",
    "sudo usermod -aG sudo username\n",
    "\n",
    "# 切換到新使用者\n",
    "su - username\n",
    "\n",
    "# 驗證使用者權限\n",
    "sudo whoami"
   ]
  },
  {
   "cell_type": "markdown",
   "id": "98e1af1a",
   "metadata": {},
   "source": [
    "### 3.4 啟用 SSH 服務（選用）\n",
    "\n",
    "如果需要遠端連線到 Kali Linux，可以啟用 SSH 服務：\n",
    "![第一步](img/ssh設定1.png)\n",
    "![第二步](img/ssh設定2.png)"
   ]
  },
  {
   "cell_type": "code",
   "execution_count": null,
   "id": "a32fcc00",
   "metadata": {
    "vscode": {
     "languageId": "bash"
    }
   },
   "outputs": [],
   "source": [
    "# 更新 ssh 密鑰 (提高安全性)\n",
    "sudo rm /etc/ssh/ssh_host_*\n",
    "sudo dpkg-reconfigure openssh-server\n",
    "\n",
    "# 重新載入 SSH 服務\n",
    "sudo systemctl reload ssh\n",
    "\n",
    "# 啟用並啟動 SSH 服務\n",
    "sudo systemctl enable ssh\n",
    "sudo systemctl start ssh\n",
    "\n",
    "# 檢查 SSH 服務狀態\n",
    "sudo systemctl status ssh\n",
    "\n",
    "# 在要連線的電腦中輸入\n",
    "ssh -p 2333 username@Kali_IP_Address"
   ]
  }
 ],
 "metadata": {
  "language_info": {
   "name": "python"
  }
 },
 "nbformat": 4,
 "nbformat_minor": 5
}
