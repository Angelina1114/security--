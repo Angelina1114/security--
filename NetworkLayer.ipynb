{
 "cells": [
  {
   "cell_type": "markdown",
   "id": "4c1e4958",
   "metadata": {},
   "source": [
    "# 網路協定基礎教學"
   ]
  },
  {
   "cell_type": "markdown",
   "id": "118828b0",
   "metadata": {},
   "source": [
    "# 一、網路層級架構"
   ]
  },
  {
   "cell_type": "markdown",
   "id": "e3b3e3a9",
   "metadata": {},
   "source": [
    "![網路層級架構](img/網路層級.png)"
   ]
  },
  {
   "cell_type": "markdown",
   "id": "bb66bc62",
   "metadata": {},
   "source": [
    "## 1. OSI 七層模型 (OSI 7-Layer Model)\n",
    "\n",
    "OSI (Open Systems Interconnection) 模型是網路通訊的標準參考模型，將網路通訊分為七個層次：\n",
    "\n",
    "### 第七層：應用層 (Application Layer)\n",
    "- **功能**：提供網路應用程式介面\n",
    "- **協定**：HTTP, HTTPS, FTP, SMTP, DNS, SSH\n",
    "- **範例**：網頁瀏覽器、電子郵件客戶端\n",
    "\n",
    "### 第六層：表現層 (Presentation Layer)  \n",
    "- **功能**：資料格式轉換、加密解密、壓縮\n",
    "- **協定**：SSL/TLS, JPEG, GIF, ASCII\n",
    "- **範例**：資料加密、圖片壓縮\n",
    "\n",
    "### 第五層：會話層 (Session Layer)\n",
    "- **功能**：建立、管理、終止會話連線\n",
    "- **協定**：NetBIOS, RPC, SQL\n",
    "- **範例**：登入驗證、連線管理\n",
    "\n",
    "### 第四層：傳輸層 (Transport Layer)\n",
    "- **功能**：端到端資料傳輸、流量控制、錯誤偵測\n",
    "- **協定**：TCP, UDP\n",
    "- **範例**：資料分割與重組、可靠性傳輸\n",
    "\n",
    "### 第三層：網路層 (Network Layer)\n",
    "- **功能**：路由選擇、邏輯位址定義\n",
    "- **協定**：IP, ICMP, ARP, OSPF\n",
    "- **範例**：IP 位址、路由器\n",
    "\n",
    "### 第二層：資料鏈結層 (Data Link Layer)\n",
    "- **功能**：實體位址定義、錯誤偵測與修正\n",
    "- **協定**：Ethernet, WiFi, PPP\n",
    "- **範例**：MAC 位址、交換器\n",
    "\n",
    "### 第一層：實體層 (Physical Layer)\n",
    "- **功能**：位元傳輸、實體連線\n",
    "- **協定**：電纜標準、光纖、無線訊號\n",
    "- **範例**：網路線、Hub、無線基地台"
   ]
  },
  {
   "cell_type": "markdown",
   "id": "58a155ca",
   "metadata": {},
   "source": [
    "## 2. TCP/IP 四層模型\n",
    "\n",
    "TCP/IP 模型是實際網際網路使用的協定架構，將 OSI 七層簡化為四層：\n",
    "\n",
    "### 第四層：應用層 (Application Layer)\n",
    "- **對應 OSI**：第 5-7 層 (會話層、表現層、應用層)\n",
    "- **功能**：提供應用程式網路服務\n",
    "- **主要協定**：\n",
    "  - **HTTP/HTTPS**：網頁傳輸協定\n",
    "  - **FTP**：檔案傳輸協定  \n",
    "  - **SMTP**：郵件傳送協定\n",
    "  - **DNS**：網域名稱解析\n",
    "  - **SSH**：安全遠端連線\n",
    "\n",
    "### 第三層：傳輸層 (Transport Layer)\n",
    "- **對應 OSI**：第 4 層 (傳輸層)\n",
    "- **功能**：端到端通訊、資料完整性\n",
    "- **主要協定**：\n",
    "  - **TCP (Transmission Control Protocol)**：可靠傳輸\n",
    "    - 連線導向\n",
    "    - 三次握手建立連線\n",
    "    - 流量控制與錯誤修正\n",
    "  - **UDP (User Datagram Protocol)**：快速傳輸\n",
    "    - 非連線導向\n",
    "    - 無錯誤修正機制\n",
    "    - 適用於即時應用\n",
    "\n",
    "### 第二層：網際網路層 (Internet Layer)\n",
    "- **對應 OSI**：第 3 層 (網路層)\n",
    "- **功能**：路由選擇、封包轉送\n",
    "- **主要協定**：\n",
    "  - **IP (Internet Protocol)**：網際網路協定\n",
    "    - IPv4：32 位元位址\n",
    "    - IPv6：128 位元位址\n",
    "  - **ICMP**：網際網路控制訊息協定\n",
    "  - **ARP**：位址解析協定\n",
    "\n",
    "### 第一層：網路存取層 (Network Access Layer)\n",
    "- **對應 OSI**：第 1-2 層 (實體層、資料鏈結層)\n",
    "- **功能**：實體網路連接\n",
    "- **主要協定**：\n",
    "  - **Ethernet**：乙太網路\n",
    "  - **WiFi (802.11)**：無線網路\n",
    "  - **PPP**：點對點協定"
   ]
  },
  {
   "cell_type": "markdown",
   "id": "9fcefc00",
   "metadata": {},
   "source": [
    "## 3. OSI vs TCP/IP 模型比較\n",
    "\n",
    "| OSI 層次 | OSI 七層模型 | TCP/IP 四層模型 | 主要功能 |\n",
    "|---------|------------|---------------|---------|\n",
    "| 7 | 應用層 | 應用層 | 網路應用程式介面 |\n",
    "| 6 | 表現層 | ↑ | 資料格式轉換、加密 |\n",
    "| 5 | 會話層 | ↑ | 會話管理 |\n",
    "| 4 | 傳輸層 | 傳輸層 | 端到端傳輸 (TCP/UDP) |\n",
    "| 3 | 網路層 | 網際網路層 | 路由選擇 (IP) |\n",
    "| 2 | 資料鏈結層 | 網路存取層 | MAC 位址、交換 |\n",
    "| 1 | 實體層 | ↑ | 實體連線、位元傳輸 |\n",
    "\n",
    "### 重要差異：\n",
    "- **OSI 模型**：理論標準，層次分明\n",
    "- **TCP/IP 模型**：實務應用，網際網路標準\n",
    "- **實際應用**：現今網路主要採用 TCP/IP 架構"
   ]
  },
  {
   "cell_type": "markdown",
   "id": "2cc20b1a",
   "metadata": {},
   "source": [
    "## 4. 實際範例：網頁瀏覽過程\n",
    "\n",
    "當您在瀏覽器輸入 `www.example.com` 時，資料如何在各層間傳遞：\n",
    "\n",
    "### 資料封裝過程 (由上往下)：\n",
    "\n",
    "1. **應用層**：瀏覽器產生 HTTP 請求\n",
    "   ```\n",
    "   GET / HTTP/1.1\n",
    "   Host: www.example.com\n",
    "   ```\n",
    "\n",
    "2. **傳輸層**：加上 TCP 標頭 (埠號 80)\n",
    "   ```\n",
    "   TCP標頭 + HTTP資料\n",
    "   ```\n",
    "\n",
    "3. **網際網路層**：加上 IP 標頭 (目的地 IP)\n",
    "   ```\n",
    "   IP標頭 + TCP標頭 + HTTP資料\n",
    "   ```\n",
    "\n",
    "4. **網路存取層**：加上乙太網路標頭 (MAC 位址)\n",
    "   ```\n",
    "   乙太網路標頭 + IP標頭 + TCP標頭 + HTTP資料\n",
    "   ```\n",
    "\n",
    "### 資料解封裝過程 (由下往上)：\n",
    "接收端會逆向進行，逐層移除標頭，最終將 HTTP 回應傳給瀏覽器顯示網頁。"
   ]
  },
  {
   "cell_type": "markdown",
   "id": "4d875e81",
   "metadata": {},
   "source": [
    "# 常用網路指令\n",
    "\n",
    "## 1. 連線測試指令\n",
    "\n",
    "### ping - 測試網路連通性\n",
    "```bash\n",
    "ping google.com          # 持續 ping\n",
    "ping -c 4 google.com     # ping 4 次後停止\n",
    "ping -i 2 google.com     # 每 2 秒 ping 一次\n",
    "```"
   ]
  },
  {
   "cell_type": "markdown",
   "id": "b83eac54",
   "metadata": {},
   "source": [
    "## 2. 網路資訊查詢\n",
    "\n",
    "### nslookup - DNS 查詢\n",
    "```bash\n",
    "nslookup google.com      # 查詢 A 記錄\n",
    "nslookup -type=mx google.com  # 查詢郵件記錄\n",
    "```\n",
    "\n",
    "### dig - 進階 DNS 查詢\n",
    "```bash\n",
    "dig google.com           # 查詢 DNS 記錄\n",
    "dig @8.8.8.8 google.com  # 指定 DNS 伺服器\n",
    "```\n",
    "\n",
    "### whois - 域名資訊查詢\n",
    "```bash\n",
    "whois google.com         # 查詢域名註冊資訊\n",
    "```\n",
    "\n",
    "### host - 簡單 DNS 查詢\n",
    "```bash\n",
    "host google.com          # 快速查詢 IP\n",
    "host -t mx google.com    # 查詢 MX 記錄\n",
    "```"
   ]
  },
  {
   "cell_type": "markdown",
   "id": "6d9f9862",
   "metadata": {},
   "source": [
    "## 3. 網路設定與狀態"
   ]
  },
  {
   "cell_type": "code",
   "execution_count": null,
   "id": "0ac1a344",
   "metadata": {
    "vscode": {
     "languageId": "shellscript"
    }
   },
   "outputs": [],
   "source": [
    "# ip - 現代網路設定工具\n",
    "ip addr show             # 顯示網路介面\n",
    "ip route show            # 顯示路由表\n",
    "ip link show             # 顯示網路設備\n",
    "\n",
    "# ifconfig - 傳統網路設定 (需安裝 net-tools)\n",
    "ifconfig                 # 顯示所有介面\n",
    "ifconfig eth0            # 顯示特定介面\n",
    "\n",
    "# netstat - 網路連線狀態\n",
    "netstat -tulpn           # 顯示監聽埠口\n",
    "netstat -rn              # 顯示路由表\n",
    "\n",
    "# ss - 現代版 netstat\n",
    "ss -tulpn                # 顯示監聽埠口\n",
    "ss -o state established  # 顯示已建立連線"
   ]
  },
  {
   "cell_type": "markdown",
   "id": "a23934bb",
   "metadata": {},
   "source": [
    "## 4. 網路掃描與分析"
   ]
  },
  {
   "cell_type": "code",
   "execution_count": null,
   "id": "25ded7fd",
   "metadata": {
    "vscode": {
     "languageId": "shellscript"
    }
   },
   "outputs": [],
   "source": [
    "# arp - ARP 表查詢\n",
    "arp -a                   # 顯示 ARP 表\n",
    "arp 192.168.1.1          # 查詢特定 IP 的 MAC\n",
    "\n",
    "# traceroute - 路由追蹤\n",
    "traceroute google.com    # 追蹤路由路径\n",
    "traceroute -n google.com # 不解析主機名\n",
    "\n",
    "# curl - HTTP 測試工具\n",
    "curl google.com          # 簡單 HTTP 請求\n",
    "curl -I google.com       # 只顯示標頭\n",
    "curl -v google.com       # 詳細輸出"
   ]
  },
  {
   "cell_type": "markdown",
   "id": "fe0a6a52",
   "metadata": {},
   "source": [
    "## 5. 常用指令速查\n",
    "\n",
    "| 指令 | 用途 | 範例 |\n",
    "|------|------|------|\n",
    "| `ping` | 測試連通性 | `ping google.com` |\n",
    "| `nslookup` | DNS 查詢 | `nslookup google.com` |\n",
    "| `netstat` | 連線狀態 | `netstat -tulpn` |\n",
    "| `ss` | 現代連線狀態 | `ss -tulpn` |\n",
    "| `ip` | 網路設定 | `ip addr show` |\n",
    "| `nmap` | 埠口掃描 | `nmap host` |\n",
    "| `curl` | HTTP 測試 | `curl -I host` |\n",
    "| `traceroute` | 路由追蹤 | `traceroute host` |\n",
    "| `arp` | ARP 表 | `arp -a` |\n",
    "\n",
    "### 快速診斷網路問題：\n",
    "```bash\n",
    "# 1. 檢查本機網路\n",
    "ip addr show\n",
    "# 2. 測試閘道\n",
    "ping 192.168.1.1\n",
    "# 3. 測試 DNS\n",
    "nslookup google.com\n",
    "# 4. 測試外網\n",
    "ping 8.8.8.8\n",
    "```"
   ]
  }
 ],
 "metadata": {
  "kernelspec": {
   "display_name": "Python 3",
   "language": "python",
   "name": "python3"
  },
  "language_info": {
   "name": "python",
   "version": "3.12.6"
  }
 },
 "nbformat": 4,
 "nbformat_minor": 5
}
