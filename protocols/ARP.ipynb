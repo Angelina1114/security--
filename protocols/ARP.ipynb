{
 "cells": [
  {
   "cell_type": "markdown",
   "id": "9b33657e",
   "metadata": {},
   "source": [
    "# ARP（Address Resolution Protocol）\n",
    "\n",
    "## 🎯 學習目標\n",
    "\n",
    "- 了解 ARP 的基本作用\n",
    "- 學會使用 ARP 指令檢視網路設備\n",
    "- 認識 ARP 安全問題與基本防護\n",
    "\n",
    "## 📋 課程內容\n",
    "\n",
    "1. ARP 基礎概念\n",
    "2. 常用 ARP 指令\n",
    "3. ARP 安全認知"
   ]
  },
  {
   "cell_type": "markdown",
   "id": "94e5bd3a",
   "metadata": {},
   "source": [
    "## 1. ARP 基礎概念\n",
    "\n",
    "### 什麼是 ARP？\n",
    "ARP 是一個網路協議，負責將 **IP 位址**轉換為 **MAC 位址**（網卡實體地址）。\n",
    "\n",
    "### 為什麼需要 ARP？\n",
    "- 電腦使用 **IP 位址** 在網路上找到目標（如 192.168.1.5）\n",
    "- 網卡需要 **MAC 位址** 才能實際傳送資料（如 aa:bb:cc:dd:ee:ff）\n",
    "- **ARP 的工作** 就是建立這兩者的對應關係\n",
    "\n",
    "### 簡單運作流程\n",
    "1. 電腦想連到某個 IP\n",
    "2. 檢查 ARP 表格，看看有沒有對應的 MAC 位址\n",
    "3. 如果沒有，就廣播詢問「誰是這個 IP？」\n",
    "4. 目標設備回答「我是，我的 MAC 是 xxx」\n",
    "5. 電腦記住這個對應關係，開始傳送資料"
   ]
  },
  {
   "cell_type": "code",
   "execution_count": null,
   "id": "7d883cd4",
   "metadata": {
    "vscode": {
     "languageId": "bash"
    }
   },
   "outputs": [],
   "source": [
    "# 檢視所有 ARP 項目\n",
    "arp -a\n",
    "\n",
    "# 只顯示數字格式（不解析主機名稱）\n",
    "arp -an\n",
    "\n",
    "# 檢查特定 IP 的 ARP 項目\n",
    "arp 192.168.1.1\n",
    "\n",
    "# 檢視預設閘道的 ARP 資訊\n",
    "route -n get default | grep gateway"
   ]
  },
  {
   "cell_type": "markdown",
   "id": "78f16221",
   "metadata": {},
   "source": [
    "## 2. 如何讀懂 ARP 表格\n",
    "\n",
    "### ARP 輸出範例\n",
    "```\n",
    "# macOS 輸出\n",
    "router.local (192.168.1.1) at aa:bb:cc:dd:ee:ff on en0\n",
    "phone.local (192.168.1.5) at 11:22:33:44:55:66 on en0\n",
    "\n",
    "# Linux 輸出  \n",
    "192.168.1.1 dev eth0 lladdr aa:bb:cc:dd:ee:ff REACHABLE\n",
    "192.168.1.5 dev eth0 lladdr 11:22:33:44:55:66 STALE\n",
    "```\n",
    "\n",
    "### 重要欄位說明\n",
    "- **IP 位址**：設備在網路上的地址\n",
    "- **MAC 位址**：網卡的實體地址（格式：xx:xx:xx:xx:xx:xx）\n",
    "- **介面**：你的網卡名稱（en0、eth0 等）\n",
    "- **狀態**：REACHABLE=可連通，STALE=可能過時"
   ]
  },
  {
   "cell_type": "markdown",
   "id": "ef7c915b",
   "metadata": {},
   "source": [
    "## 3. ARP 安全問題（認知篇）\n",
    "\n",
    "### 🚨 ARP 的安全風險\n",
    "\n",
    "ARP 協議比較古老，設計時沒考慮安全性：\n",
    "- **無驗證機制**：任何人都能假冒別人的身份\n",
    "- **容易被欺騙**：電腦會相信收到的 ARP 回應\n",
    "\n",
    "### 常見 ARP 攻擊\n",
    "\n",
    "#### ARP 欺騙（ARP Spoofing）\n",
    "- **攻擊方式**：駭客假冒路由器或其他設備的 MAC 位址\n",
    "- **危險後果**：\n",
    "  - 竊聽你的網路流量\n",
    "  - 竊取帳號密碼\n",
    "  - 修改你看到的網頁內容\n",
    "  - 讓你無法正常上網\n",
    "\n",
    "#### 如何發現攻擊？\n",
    "- 網路突然變慢或斷線\n",
    "- 同一個 IP 對應到不同的 MAC 位址\n",
    "- 出現不認識的設備"
   ]
  },
  {
   "cell_type": "markdown",
   "id": "f6a92fdf",
   "metadata": {},
   "source": [
    "### 🛡️ 基本防護方法\n",
    "\n",
    "#### 個人用戶防護\n",
    "1. **使用安全的 WiFi**：避免連接公共 WiFi\n",
    "2. **定期檢查 ARP 表**：留意是否有異常設備\n",
    "3. **使用 HTTPS 網站**：加密連線較安全\n",
    "4. **保持系統更新**：修補安全漏洞\n",
    "\n",
    "#### 簡單檢查方法\n",
    "```bash\n",
    "# 定期執行，記住正常的設備\n",
    "arp -a\n",
    "\n",
    "# 特別注意你的路由器 MAC 是否改變\n",
    "ping 192.168.1.1  # 先ping路由器\n",
    "arp -a | grep 192.168.1.1  # 檢查MAC位址\n",
    "```\n",
    "\n",
    "#### 發現問題時的應對\n",
    "1. **立即中斷網路連線**\n",
    "2. **清空 ARP 快取**：`sudo arp -a -d`（需要管理員權限）\n",
    "3. **重新連接網路**\n",
    "4. **檢查是否還有問題**"
   ]
  },
  {
   "cell_type": "code",
   "execution_count": null,
   "id": "46a01746",
   "metadata": {
    "vscode": {
     "languageId": "bash"
    }
   },
   "outputs": [],
   "source": [
    "# ARP 表格分析\n",
    "arp -a | wc -l  # 計算設備數量\n",
    "\n",
    "# 查找重複的 MAC 位址\n",
    "arp -a | awk '{print $4}' | sort | uniq -d\n",
    "\n",
    "# 顯示最近活躍的設備（頭 10 個）\n",
    "arp -a | head -10\n",
    "\n",
    "# 檢查本地網段的設備\n",
    "arp -a | grep \"192.168.1\"\n",
    "\n",
    "# 清空 ARP 快取（需要 sudo 權限）\n",
    "# sudo arp -a -d"
   ]
  },
  {
   "cell_type": "code",
   "execution_count": null,
   "id": "adc7b3ed",
   "metadata": {
    "vscode": {
     "languageId": "bash"
    }
   },
   "outputs": [],
   "source": [
    "# 進階 ARP 管理指令（需要管理員權限）\n",
    "\n",
    "# 手動新增靜態 ARP 項目\n",
    "# sudo arp -s 192.168.1.100 aa:bb:cc:dd:ee:ff\n",
    "\n",
    "# 刪除特定 ARP 項目  \n",
    "# sudo arp -d 192.168.1.100\n",
    "\n",
    "# Linux 系統的 ARP 指令\n",
    "# ip neigh show  # 顯示鄰居表\n",
    "# ip neigh show dev eth0  # 顯示特定介面\n",
    "# ip neigh flush all  # 清空所有 ARP 快取"
   ]
  },
  {
   "cell_type": "code",
   "execution_count": null,
   "id": "f258e713",
   "metadata": {
    "vscode": {
     "languageId": "bash"
    }
   },
   "outputs": [],
   "source": [
    "# 網路探測與 ARP 相關指令\n",
    "\n",
    "# 快速 ping 本地網段觸發 ARP 更新\n",
    "for i in {1..10}; do ping -c 1 -W 1 192.168.1.$i >/dev/null 2>&1 & done; wait\n",
    "\n",
    "# 檢查網路介面資訊\n",
    "ifconfig | grep -E \"(inet |ether )\"\n",
    "\n",
    "# macOS 系統資訊\n",
    "scutil --dns | grep nameserver\n",
    "\n",
    "# 監控 ARP 流量（需要 sudo）\n",
    "# sudo tcpdump arp"
   ]
  }
 ],
 "metadata": {
  "language_info": {
   "name": "python"
  }
 },
 "nbformat": 4,
 "nbformat_minor": 5
}
