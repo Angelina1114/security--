{
 "cells": [
  {
   "cell_type": "markdown",
   "id": "c2bf733c",
   "metadata": {},
   "source": [
    "# DNS（Domain Name System）基礎教學\n",
    "\n",
    "## 學習目標\n",
    "\n",
    "- 理解 DNS 的階層結構與運作原理\n",
    "- 學會使用 `dig`、`nslookup`、`host` 查詢 DNS 記錄\n",
    "- 了解常見 DNS 記錄類型的用途\n",
    "- 掌握基本的 DNS 查詢技巧\n",
    "\n",
    "## 目錄\n",
    "\n",
    "1. [DNS 階層結構詳解](#1-DNS-階層結構詳解)\n",
    "2. [DNS 記錄類型](#2-DNS-記錄類型)\n",
    "3. [查詢工具使用](#3-查詢工具使用)\n",
    "4. [實用範例](#4-實用範例)"
   ]
  },
  {
   "cell_type": "markdown",
   "id": "95e3754c",
   "metadata": {},
   "source": [
    "## 1. DNS 階層結構詳解\n",
    "\n",
    "DNS 是一個樹狀的階層命名系統，從右到左，每個點（.）代表一個層級：\n",
    "\n",
    "### 完整的 DNS 階層\n",
    "```\n",
    "                 . (根域 Root)\n",
    "                 |\n",
    "     ┌───────────┼───────────┬───────────┐\n",
    "     |           |           |           |\n",
    "   .com        .org        .net        .tw\n",
    "     |           |           |           |\n",
    " ┌───┼───┐   ┌───┼───┐       |       ┌───┼───┐\n",
    "google apple  wikipedia      |      .edu  .gov\n",
    " |     |       |             |       |     |\n",
    "www   mail    www         facebook  ntu   gov\n",
    "```\n",
    "\n",
    "### 各層級說明\n",
    "\n",
    "1. **根域（Root Zone）**\n",
    "   - 符號：`.`（點）\n",
    "   - 管理：IANA（網際網路號碼分配局）\n",
    "   - 全球共 13 個根伺服器（a.root-servers.net 到 m.root-servers.net）\n",
    "\n",
    "2. **頂級域名（TLD - Top Level Domain）**\n",
    "   - **通用頂級域名（gTLD）**：`.com`、`.org`、`.net`、`.edu`\n",
    "   - **國家代碼頂級域名（ccTLD）**：`.tw`（台灣）、`.jp`（日本）、`.cn`（中國）\n",
    "   - **新通用頂級域名**：`.app`、`.cloud`、`.shop`\n",
    "\n",
    "3. **二級域名（Second Level Domain）**\n",
    "   - 例如：`google.com` 中的 `google`\n",
    "   - 這是組織或個人可以註冊的層級\n",
    "\n",
    "4. **子域名（Subdomain）**\n",
    "   - 例如：`www.google.com` 中的 `www`\n",
    "   - 由域名擁有者自由設定\n",
    "\n",
    "### DNS 查詢流程範例\n",
    "當你輸入 `www.google.com` 時：\n",
    "```\n",
    "1. 電腦 → 本地 DNS → 根伺服器：「.com 在哪？」\n",
    "2. 根伺服器回覆：「找 .com 的 NS 伺服器」\n",
    "3. 本地 DNS → .com NS：「google.com 在哪？」\n",
    "4. .com NS 回覆：「找 google.com 的 NS 伺服器」\n",
    "5. 本地 DNS → google.com NS：「www.google.com 的 IP？」\n",
    "6. google.com NS 回覆：「172.217.160.4」\n",
    "```"
   ]
  },
  {
   "cell_type": "markdown",
   "id": "75678c7c",
   "metadata": {},
   "source": [
    "## 2. DNS 記錄類型\n",
    "\n",
    "| 記錄類型 | 用途 | 範例 |\n",
    "|---------|------|------|\n",
    "| **A** | 域名對應 IPv4 | `example.com → 93.184.216.34` |\n",
    "| **AAAA** | 域名對應 IPv6 | `example.com → 2606:2800:220:1:248:1893:25c8:1946` |\n",
    "| **CNAME** | 別名記錄 | `www.example.com → example.com` |\n",
    "| **MX** | 郵件伺服器 | `example.com → 10 mail.example.com` |\n",
    "| **TXT** | 文字記錄 | SPF、DKIM、驗證記錄 |\n",
    "| **NS** | 名稱伺服器 | `example.com → ns1.example.com` |\n",
    "| **SOA** | 授權起始 | 域名權威資訊 |\n",
    "| **PTR** | 反向查詢 | `34.216.184.93.in-addr.arpa → example.com` |"
   ]
  },
  {
   "cell_type": "markdown",
   "id": "2872df40",
   "metadata": {},
   "source": [
    "## 3. 查詢工具使用\n",
    "\n",
    "### 3.1 使用 dig 指令"
   ]
  },
  {
   "cell_type": "code",
   "execution_count": null,
   "id": "47a81dac",
   "metadata": {
    "vscode": {
     "languageId": "bash"
    }
   },
   "outputs": [],
   "source": [
    "# 基本查詢 - A 記錄（IPv4）\n",
    "dig example.com\n",
    "\n",
    "# 簡潔輸出 - 只顯示答案\n",
    "dig +short example.com\n",
    "\n",
    "# 查詢特定記錄類型\n",
    "dig example.com AAAA     # IPv6 記錄\n",
    "dig example.com MX       # 郵件伺服器記錄\n",
    "dig example.com TXT      # 文字記錄\n",
    "dig example.com NS       # 名稱伺服器記錄"
   ]
  },
  {
   "cell_type": "markdown",
   "id": "1fca75f8",
   "metadata": {},
   "source": [
    "### 3.2 使用 nslookup 指令"
   ]
  },
  {
   "cell_type": "code",
   "execution_count": null,
   "id": "c60faeeb",
   "metadata": {
    "vscode": {
     "languageId": "bash"
    }
   },
   "outputs": [],
   "source": [
    "# 基本查詢\n",
    "nslookup example.com\n",
    "\n",
    "# 指定查詢類型\n",
    "nslookup -type=MX example.com\n",
    "nslookup -type=TXT example.com\n",
    "nslookup -type=NS example.com\n",
    "\n",
    "# 反向查詢（IP 轉域名）\n",
    "nslookup 8.8.8.8"
   ]
  },
  {
   "cell_type": "markdown",
   "id": "5284ef25",
   "metadata": {},
   "source": [
    "### 3.3 使用 host 指令"
   ]
  },
  {
   "cell_type": "code",
   "execution_count": null,
   "id": "20a9557f",
   "metadata": {
    "vscode": {
     "languageId": "bash"
    }
   },
   "outputs": [],
   "source": [
    "# 基本查詢 - 簡潔輸出\n",
    "host example.com\n",
    "\n",
    "# 查詢所有記錄類型\n",
    "host -a example.com\n",
    "\n",
    "# 查詢特定類型\n",
    "host -t MX example.com\n",
    "host -t TXT example.com\n",
    "host -t NS example.com\n",
    "\n",
    "# 反向查詢\n",
    "host 93.184.216.34"
   ]
  },
  {
   "cell_type": "markdown",
   "id": "ef64a2db",
   "metadata": {},
   "source": [
    "## 4. 三個查詢工具的差異與選擇\n",
    "\n",
    "### 工具比較表\n",
    "\n",
    "| 特性 | dig | nslookup | host |\n",
    "|------|-----|----------|------|\n",
    "| **輸出格式** | 詳細完整 | 中等詳細 | 簡潔明瞭 |\n",
    "| **學習難度** | 中等 | 簡單 | 最簡單 |\n",
    "| **功能豐富度** | 最豐富 | 中等 | 基本功能 |\n",
    "| **適合情境** | 深度分析 | 一般查詢 | 快速查詢 |\n",
    "| **互動模式** | 無 | 有 | 無 |\n",
    "| **輸出控制** | 靈活 | 中等 | 固定 |\n",
    "\n",
    "### 使用建議\n",
    "\n",
    "**初學者建議順序：**\n",
    "1. **先學 `host`** - 最簡單，輸出清晰\n",
    "2. **再學 `nslookup`** - 功能適中，有互動模式\n",
    "3. **最後學 `dig`** - 功能最強，專業人士首選\n",
    "\n",
    "**使用場景：**\n",
    "- 🔍 **快速查詢** → 用 `host`\n",
    "- 🎯 **一般診斷** → 用 `nslookup` \n",
    "- 🔧 **深度分析** → 用 `dig`"
   ]
  },
  {
   "cell_type": "code",
   "execution_count": null,
   "id": "835ee75f",
   "metadata": {
    "vscode": {
     "languageId": "bash"
    }
   },
   "outputs": [],
   "source": [
    "# 比較三個工具查詢同一個域名的差異\n",
    "echo \"=== 比較 dig、nslookup、host 的輸出差異 ===\"\n",
    "\n",
    "echo \"1. host 的輸出（最簡潔）：\"\n",
    "host google.com\n",
    "\n",
    "echo \"2. nslookup 的輸出（中等詳細）：\"\n",
    "nslookup google.com\n",
    "\n",
    "echo \"3. dig 的輸出（最詳細）：\"\n",
    "dig +short google.com\n",
    "echo \"   dig 完整輸出請執行：dig google.com\""
   ]
  },
  {
   "cell_type": "markdown",
   "id": "1b38bff2",
   "metadata": {},
   "source": [
    "## 5. DNS 安全與攻擊類型（認知篇）\n",
    "\n",
    "> ⚠️ **重要聲明**：以下內容僅供教育與防護認知，絕不可用於非法用途\n",
    "\n",
    "### 5.1 常見 DNS 攻擊類型\n",
    "\n",
    "#### 🎯 DNS 劫持 (DNS Hijacking)\n",
    "- **原理**：惡意修改 DNS 伺服器或路由器設定\n",
    "- **影響**：使用者被導向錯誤網站\n",
    "- **範例情境**：輸入銀行網址卻進入釣魚網站\n",
    "- **防護**：使用可信任的 DNS 伺服器、定期檢查 DNS 設定\n",
    "\n",
    "#### 💉 DNS 快取中毒 (Cache Poisoning)\n",
    "- **原理**：在 DNS 伺服器快取中植入錯誤記錄\n",
    "- **影響**：大範圍用戶受影響（快取期間內）\n",
    "- **範例情境**：整個 ISP 的用戶都被導向錯誤 IP\n",
    "- **防護**：DNS 伺服器使用隨機化查詢 ID、DNSSEC\n",
    "\n",
    "#### 🕳️ DNS 隧道 (DNS Tunneling)\n",
    "- **原理**：利用 DNS 查詢傳輸非 DNS 資料\n",
    "- **影響**：繞過防火牆、資料外洩\n",
    "- **範例情境**：惡意軟體透過 DNS 查詢傳送敏感資料\n",
    "- **防護**：監控異常 DNS 流量、限制 DNS 查詢頻率\n",
    "\n",
    "#### 🌊 DNS 放大攻擊 (DNS Amplification)\n",
    "- **原理**：利用 DNS 回應放大攻擊流量\n",
    "- **影響**：DDoS 攻擊，癱瘓目標伺服器\n",
    "- **範例情境**：小查詢產生大回應，攻擊者偽造來源 IP\n",
    "- **防護**：限制遞迴查詢、實施速率限制\n",
    "\n",
    "#### 🔄 域名搶註 (Typosquatting)\n",
    "- **原理**：註冊與知名網站相似的錯誤域名\n",
    "- **影響**：誤導用戶、釣魚攻擊\n",
    "- **範例情境**：`gooogle.com`（多一個 o）模仿 `google.com`\n",
    "- **防護**：仔細檢查網址、使用書籤"
   ]
  },
  {
   "cell_type": "markdown",
   "id": "b90c0388",
   "metadata": {},
   "source": [
    "### 5.2 防護措施與最佳實踐\n",
    "\n",
    "#### 🛡️ 技術防護\n",
    "- **使用 DNSSEC**：域名系統安全擴展，防止記錄偽造\n",
    "- **DNS over HTTPS (DoH)**：加密 DNS 查詢，防止監聽\n",
    "- **DNS over TLS (DoT)**：另一種 DNS 加密方式\n",
    "- **可信任 DNS 伺服器**：使用 Google (8.8.8.8)、Cloudflare (1.1.1.1) 等\n",
    "\n",
    "#### 🔍 監控與檢測\n",
    "```\n",
    "正常 DNS 查詢特徵：\n",
    "- 查詢頻率穩定\n",
    "- 查詢內容合理\n",
    "- 回應時間正常\n",
    "\n",
    "異常 DNS 活動：\n",
    "- 頻繁查詢不存在域名\n",
    "- 異常長的域名查詢\n",
    "- 大量相似查詢模式\n",
    "```\n",
    "\n",
    "#### 👥 使用者防護\n",
    "- 使用官方應用或書籤訪問重要網站\n",
    "- 注意瀏覽器 SSL 憑證警告\n",
    "- 定期檢查電腦/路由器 DNS 設定\n",
    "- 避免使用不明來源的 DNS 伺服器"
   ]
  },
  {
   "cell_type": "code",
   "execution_count": null,
   "id": "c22df974",
   "metadata": {
    "vscode": {
     "languageId": "bash"
    }
   },
   "outputs": [],
   "source": [
    "# 檢查 DNS 安全設定的基本指令\n",
    "echo \"=== DNS 安全檢查範例 ===\"\n",
    "\n",
    "echo \"1. 檢查目前使用的 DNS 伺服器：\"\n",
    "# macOS/Linux\n",
    "cat /etc/resolv.conf 2>/dev/null || scutil --dns 2>/dev/null | grep nameserver\n",
    "\n",
    "echo \"2. 測試 DNS 回應時間（檢測是否有異常延遲）：\"\n",
    "time nslookup google.com\n",
    "\n",
    "echo \"3. 檢查域名是否支援 DNSSEC：\"\n",
    "dig +dnssec google.com | grep -E \"(ad|RRSIG)\"\n",
    "\n",
    "echo \"4. 比較不同 DNS 伺服器的回應：\"\n",
    "echo \"   Google DNS (8.8.8.8):\"\n",
    "dig @8.8.8.8 +short example.com\n",
    "echo \"   Cloudflare DNS (1.1.1.1):\"\n",
    "dig @1.1.1.1 +short example.com\n",
    "\n",
    "echo \"注意：如果不同 DNS 伺服器回應的 IP 差異很大，可能存在安全問題\""
   ]
  }
 ],
 "metadata": {
  "language_info": {
   "name": "python"
  }
 },
 "nbformat": 4,
 "nbformat_minor": 5
}
