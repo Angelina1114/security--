{
 "cells": [
  {
   "cell_type": "markdown",
   "id": "5ab439a0",
   "metadata": {},
   "source": [
    "# ICMP（Internet Control Message Protocol）\n",
    "\n",
    "## 🎯 學習目標\n",
    "\n",
    "- 了解 ICMP 的基本作用\n",
    "- 學會使用 ping 和 traceroute 指令\n",
    "- 認識 ICMP 在網路診斷中的重要性\n",
    "- 了解 ICMP 相關的安全問題\n",
    "\n",
    "## 📋 課程內容\n",
    "\n",
    "1. ICMP 基礎概念\n",
    "2. 常用 ICMP 指令\n",
    "3. ICMP 訊息類型\n",
    "4. 安全考量"
   ]
  },
  {
   "cell_type": "markdown",
   "id": "1b57d71f",
   "metadata": {},
   "source": [
    "## 1. ICMP 基礎概念\n",
    "\n",
    "### 什麼是 ICMP？\n",
    "ICMP 是 **網路控制訊息協議**，主要用於：\n",
    "- **錯誤回報**：告知網路問題（如目標不可達）\n",
    "- **網路診斷**：測試連線狀況（如 ping）\n",
    "- **路由控制**：協助網路封包找到最佳路徑\n",
    "\n",
    "### ICMP 的特色\n",
    "- 🌐 **網路層協議**：工作在 IP 層之上\n",
    "- 🔧 **診斷工具**：是網管人員的重要工具\n",
    "- ⚡ **輕量簡單**：訊息格式簡潔有效\n",
    "- 🎯 **單向通訊**：主要用於狀態回報"
   ]
  },
  {
   "cell_type": "markdown",
   "id": "7598b6a2",
   "metadata": {},
   "source": [
    "## 2. 常用 ICMP 指令\n",
    "\n",
    "### ping - 測試連線\n",
    "最常用的 ICMP 工具，檢查目標是否可達：\n",
    "\n",
    "**基本用法**：\n",
    "- `ping 目標IP` - 持續測試\n",
    "- `ping -c 次數 目標IP` - 指定測試次數\n",
    "- `ping -t TTL值 目標IP` - 設定存活時間\n",
    "\n",
    "### traceroute - 追蹤路徑\n",
    "顯示封包到達目標的完整路徑：\n",
    "\n",
    "**基本用法**：\n",
    "- `traceroute -I 目標IP` (Linux/macOS)\n",
    "- `tracert 目標IP` (Windows)"
   ]
  },
  {
   "cell_type": "code",
   "execution_count": null,
   "id": "3e07ee8e",
   "metadata": {
    "vscode": {
     "languageId": "bash"
    }
   },
   "outputs": [],
   "source": [
    "# 範例：ping 一個主機\n",
    "ping -c 4 8.8.8.8"
   ]
  },
  {
   "cell_type": "markdown",
   "id": "615573ea",
   "metadata": {},
   "source": [
    "## 3. ICMP 安全考量\n",
    "\n",
    "### 🚨 ICMP 的安全問題\n",
    "\n",
    "#### 資訊洩露風險\n",
    "- **網路探測**：攻擊者可用 ping 掃描活躍主機\n",
    "- **路徑洩露**：traceroute 可能暴露內部網路架構\n",
    "- **服務探測**：某些 ICMP 回應可能洩露系統資訊\n",
    "\n",
    "#### 攻擊方式\n",
    "- **Ping Flood**：大量 ICMP 請求造成 DoS 攻擊\n",
    "- **Ping of Death**：超大 ICMP 封包攻擊（現已修補）\n",
    "- **ICMP Redirect**：偽造 ICMP 重導向訊息\n",
    "\n",
    "### 🛡️ 防護措施\n",
    "\n",
    "#### 防火牆設定\n",
    "- **限制 ICMP**：只允許必要的 ICMP 類型\n",
    "- **頻率限制**：限制 ICMP 請求的頻率\n",
    "- **來源過濾**：只接受可信來源的 ICMP\n",
    "\n",
    "#### 最佳實踐\n",
    "✅ **對外網路**：考慮關閉 ping 回應  \n",
    "✅ **內部網路**：保留 ICMP 功能以便診斷  \n",
    "✅ **監控異常**：注意大量 ICMP 流量  \n",
    "✅ **定期檢查**：確保防護設定有效  \n",
    "\n",
    "### 💡 使用建議\n",
    "\n",
    "- **合法使用**：只對有權限的目標進行測試\n",
    "- **適度測試**：避免過於頻繁的 ping 測試\n",
    "- **尊重網路**：不要對他人網路造成負擔\n",
    "- **學習目的**：理解工具原理，培養安全意識"
   ]
  }
 ],
 "metadata": {
  "language_info": {
   "name": "python"
  }
 },
 "nbformat": 4,
 "nbformat_minor": 5
}
