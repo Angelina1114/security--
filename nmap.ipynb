{
 "cells": [
  {
   "cell_type": "markdown",
   "id": "6ad5e06b",
   "metadata": {},
   "source": [
    "# Nmap 基礎語法指南\n",
    "\n",
    "Nmap（Network Mapper）是一個強大的網路探索和安全審計工具。本指南將介紹 nmap 的基本語法和常用功能。\n",
    "\n",
    "## 目錄\n",
    "1. [基本語法](#基本語法)\n",
    "2. [目標指定](#目標指定)\n",
    "3. [主機發現](#主機發現)\n",
    "4. [掃描類型](#掃描類型)\n",
    "5. [連接埠指定](#連接埠指定)\n",
    "6. [服務和版本偵測](#服務和版本偵測)\n",
    "7. [輸出格式](#輸出格式)\n",
    "8. [實用範例](#實用範例)"
   ]
  },
  {
   "cell_type": "markdown",
   "id": "e1a33991",
   "metadata": {},
   "source": [
    "## 1. 基本語法\n",
    "\n",
    "Nmap 的基本語法格式：\n",
    "```\n",
    "nmap [掃描類型] [選項] {目標規格}\n",
    "```\n",
    "\n",
    "### 最簡單的掃描"
   ]
  },
  {
   "cell_type": "markdown",
   "id": "c107e4fc",
   "metadata": {},
   "source": [
    "## 學習目標（這份講義你會學到）\n",
    "\n",
    "- 了解 nmap 的基本用途與安全考量\n",
    "- 能用最常見的 3 個步驟開始掃描：主機發現、埠掃描、版本偵測\n",
    "- 實作並解讀簡單結果（範例可在 macOS / Linux 上執行）\n",
    "- 知道如何把掃描輸出存成檔案以便後續分析\n",
    "\n",
    "> 前置需求：具備基本的命令列操作經驗，並且只對授權的目標執行掃描。"
   ]
  },
  {
   "cell_type": "code",
   "execution_count": null,
   "id": "fe6f9b1e",
   "metadata": {
    "vscode": {
     "languageId": "bash"
    }
   },
   "outputs": [],
   "source": [
    "nmap 192.168.1.1          # 掃描單一 IP\n",
    "nmap google.com           # 掃描域名"
   ]
  },
  {
   "cell_type": "markdown",
   "id": "8e42d17a",
   "metadata": {},
   "source": [
    "## 2. 目標指定方式\n",
    "\n",
    "### 2.1 單一目標"
   ]
  },
  {
   "cell_type": "code",
   "execution_count": null,
   "id": "94eb48be",
   "metadata": {
    "vscode": {
     "languageId": "bash"
    }
   },
   "outputs": [],
   "source": [
    "nmap 192.168.1.1          # IP 地址\n",
    "nmap www.example.com      # 域名"
   ]
  },
  {
   "cell_type": "markdown",
   "id": "dd56d242",
   "metadata": {},
   "source": [
    "### 2.2 多個目標"
   ]
  },
  {
   "cell_type": "code",
   "execution_count": null,
   "id": "36f69111",
   "metadata": {
    "vscode": {
     "languageId": "bash"
    }
   },
   "outputs": [],
   "source": [
    "nmap 192.168.1.1 192.168.1.5 192.168.1.10    # 多個 IP\n",
    "nmap 192.168.1.1-10                           # IP 範圍\n",
    "nmap 192.168.1.0/24                           # CIDR 表示法（整個子網）\n",
    "nmap 192.168.1.*                              # 萬用字元"
   ]
  },
  {
   "cell_type": "markdown",
   "id": "165367ef",
   "metadata": {},
   "source": [
    "### 2.3 從檔案讀取目標"
   ]
  },
  {
   "cell_type": "code",
   "execution_count": null,
   "id": "bbef97ee",
   "metadata": {
    "vscode": {
     "languageId": "bash"
    }
   },
   "outputs": [],
   "source": [
    "nmap -iL targets.txt      # 從檔案讀取目標列表"
   ]
  },
  {
   "cell_type": "markdown",
   "id": "19bc1a8e",
   "metadata": {},
   "source": [
    "### 2.4 排除目標"
   ]
  },
  {
   "cell_type": "code",
   "execution_count": null,
   "id": "de218183",
   "metadata": {
    "vscode": {
     "languageId": "bash"
    }
   },
   "outputs": [],
   "source": [
    "nmap 192.168.1.0/24 --exclude 192.168.1.1     # 排除特定 IP\n",
    "nmap 192.168.1.0/24 --excludefile exclude.txt # 從檔案排除"
   ]
  },
  {
   "cell_type": "markdown",
   "id": "8200583d",
   "metadata": {},
   "source": [
    "## 3. 主機發現\n",
    "\n",
    "### 為什麼主機發現很重要？\n",
    "在進行連接埠掃描之前，先找出網路中哪些主機是活躍的可以：\n",
    "- 節省掃描時間\n",
    "- 減少不必要的網路流量\n",
    "- 避免掃描離線或不存在的主機\n",
    "\n",
    "下面我們示範三個安全且常用的步驟，對初學者來說，先從主機發現開始：\n",
    "1. 使用最簡單的主機發現（-sn）\n",
    "2. 在防火牆情況下跳過 ping（-Pn）\n",
    "3. 使用不同的探測類型（ICMP/TCP/UDP）來提高命中率\n"
   ]
  },
  {
   "cell_type": "code",
   "execution_count": null,
   "id": "a17eb352",
   "metadata": {
    "vscode": {
     "languageId": "bash"
    }
   },
   "outputs": [],
   "source": [
    "# 1) 主機發現：快速掃描整個子網的活躍主機（只檢測是否存活，不掃描埠）\n",
    "nmap -sn 192.168.1.0/24"
   ]
  },
  {
   "cell_type": "code",
   "execution_count": null,
   "id": "cd7dcda9",
   "metadata": {
    "vscode": {
     "languageId": "bash"
    }
   },
   "outputs": [],
   "source": [
    "# 2) 在有可能被防火牆阻擋 ICMP 的情況下：跳過 ping，直接掃描埠（慎用，會增加流量）\n",
    "nmap -Pn 192.168.1.1"
   ]
  },
  {
   "cell_type": "code",
   "execution_count": null,
   "id": "9c9229c2",
   "metadata": {
    "vscode": {
     "languageId": "bash"
    }
   },
   "outputs": [],
   "source": [
    "# 3) 自訂探測類型：多種探測提高發現率（ICMP/TCP/UDP 範例）\n",
    "nmap -PE 192.168.1.1   # ICMP Echo\n",
    "nmap -PS22,80,443 192.168.1.1   # TCP SYN 到常見埠\n",
    "nmap -PU53 192.168.1.1   # UDP 到 DNS 埠（53）"
   ]
  },
  {
   "cell_type": "markdown",
   "id": "4319dd94",
   "metadata": {},
   "source": [
    "## 4. 掃描類型\n",
    "### 3.1 TCP 掃描"
   ]
  },
  {
   "cell_type": "code",
   "execution_count": null,
   "id": "ea4cfdee",
   "metadata": {
    "vscode": {
     "languageId": "shellscript"
    }
   },
   "outputs": [],
   "source": [
    "# TCP SYN 掃描（預設，需要 root 權限）\n",
    "nmap -sS 192.168.1.1      # 半開連接掃描，速度快且隱蔽\n",
    "\n",
    "# TCP Connect 掃描\n",
    "nmap -sT 192.168.1.1      # 完整 TCP 連接，無需 root 權限\n",
    "\n",
    "# TCP ACK 掃描\n",
    "nmap -sA 192.168.1.1      # 用於檢測防火牆規則\n",
    "\n",
    "# TCP Window 掃描\n",
    "nmap -sW 192.168.1.1      # 基於 TCP 視窗大小的掃描（古老方式）\n",
    "\n",
    "### 3.2 UDP 掃描\n",
    "nmap -sU 192.168.1.1      # UDP 掃描，速度較慢但重要\n",
    "\n",
    "### 3.3 其他掃描類型\n",
    "nmap -sN 192.168.1.1      # TCP Null 掃描\n",
    "nmap -sF 192.168.1.1      # TCP FIN 掃描\n",
    "nmap -sX 192.168.1.1      # TCP Xmas 掃描（FIN, PSH, URG 旗標）"
   ]
  },
  {
   "cell_type": "markdown",
   "id": "af8d70f9",
   "metadata": {},
   "source": [
    "## 4. 連接埠指定\n",
    "\n",
    "### 4.1 指定連接埠範圍"
   ]
  },
  {
   "cell_type": "code",
   "execution_count": null,
   "id": "0672a59b",
   "metadata": {
    "vscode": {
     "languageId": "shellscript"
    }
   },
   "outputs": [],
   "source": [
    "nmap -p 22 192.168.1.1           # 單一連接埠\n",
    "nmap -p 22,80,443 192.168.1.1    # 多個連接埠\n",
    "nmap -p 1-100 192.168.1.1        # 連接埠範圍\n",
    "nmap -p- 192.168.1.1             # 所有連接埠 (1-65535)\n",
    "\n",
    "### 4.2 常用連接埠選項\n",
    "nmap -F 192.168.1.1              # 快速掃描（前 100 個常用連接埠）\n",
    "nmap --top-ports 1000 192.168.1.1  # 掃描最常用的 1000 個連接埠\n",
    "\n",
    "### 4.3 協議指定\n",
    "nmap -p T:80,443 192.168.1.1     # TCP 連接埠\n",
    "nmap -p U:53,161 192.168.1.1     # UDP 連接埠\n",
    "nmap -pT:80,U:53 192.168.1.1     # 同時指定 TCP 和 UDP"
   ]
  },
  {
   "cell_type": "markdown",
   "id": "14be6347",
   "metadata": {},
   "source": [
    "## 5. 服務和版本偵測\n",
    "\n",
    "### 6.1 服務偵測"
   ]
  },
  {
   "cell_type": "code",
   "execution_count": null,
   "id": "d0dcd732",
   "metadata": {
    "vscode": {
     "languageId": "shellscript"
    }
   },
   "outputs": [],
   "source": [
    "nmap -sV 192.168.1.1             # 偵測服務版本\n",
    "nmap -sV --version-light 192.168.1.1  # 輕量級版本偵測\n",
    "nmap -sV --version-all 192.168.1.1    # 嘗試所有探測\n",
    "\n",
    "### 6.2 作業系統偵測\n",
    "nmap -O 192.168.1.1              # 作業系統偵測\n",
    "nmap -O --osscan-guess 192.168.1.1    # 積極猜測作業系統\n",
    "\n",
    "### 6.3 腳本掃描\n",
    "nmap -sC 192.168.1.1             # 使用預設腳本\n",
    "nmap --script vuln 192.168.1.1   # 漏洞掃描腳本\n",
    "nmap --script=ssl-enum-ciphers 192.168.1.1  # 特定腳本"
   ]
  },
  {
   "cell_type": "markdown",
   "id": "7579c064",
   "metadata": {},
   "source": [
    "## 7. 時間和效能調整"
   ]
  },
  {
   "cell_type": "code",
   "execution_count": null,
   "id": "1b1f9ae1",
   "metadata": {
    "vscode": {
     "languageId": "shellscript"
    }
   },
   "outputs": [],
   "source": [
    "### 7.1 掃描速度\n",
    "nmap -T0 192.168.1.1             # 偏執模式（最慢）\n",
    "nmap -T1 192.168.1.1             # 鬼祟模式\n",
    "nmap -T2 192.168.1.1             # 禮貌模式\n",
    "nmap -T3 192.168.1.1             # 正常模式（預設）\n",
    "nmap -T4 192.168.1.1             # 積極模式\n",
    "nmap -T5 192.168.1.1             # 瘋狂模式（最快）\n",
    "\n",
    "### 7.2 自訂時間控制\n",
    "nmap --min-rate 1000 192.168.1.1      # 最小封包傳送速率\n",
    "nmap --max-rate 5000 192.168.1.1      # 最大封包傳送速率\n",
    "nmap --scan-delay 1s 192.168.1.1      # 掃描延遲\n",
    "nmap --max-retries 3 192.168.1.1      # 最大重試次數"
   ]
  },
  {
   "cell_type": "markdown",
   "id": "fdb165fa",
   "metadata": {},
   "source": [
    "## 8. 輸出格式\n",
    "\n",
    "### 8.1 輸出到檔案\n",
    "```bash\n",
    "nmap -oN output.txt 192.168.1.1      # 正常輸出\n",
    "nmap -oX output.xml 192.168.1.1      # XML 格式\n",
    "nmap -oG output.gnmap 192.168.1.1    # Grepable 格式\n",
    "nmap -oA basename 192.168.1.1        # 所有格式（.nmap, .xml, .gnmap）\n",
    "```\n",
    "\n",
    "### 8.2 詳細程度控制\n",
    "```bash\n",
    "nmap -v 192.168.1.1                  # 詳細模式\n",
    "nmap -vv 192.168.1.1                 # 非常詳細模式\n",
    "nmap -d 192.168.1.1                  # 除錯模式\n",
    "nmap -dd 192.168.1.1                 # 更詳細的除錯\n",
    "```"
   ]
  },
  {
   "cell_type": "markdown",
   "id": "9c097675",
   "metadata": {},
   "source": [
    "## 9. 進階與安全考量（初學者可先略過）\n",
    "\n",
    "某些技巧屬於進階或具潛在攻擊性（例如分片、誘餌、來源埠偽裝、偽造 MAC 等）。\n",
    "為了讓初學者專注於安全且合法的基本流程，這些內容已移到本文檔末尾的「附錄 - 進階指令」。\n",
    "如果你已經熟悉基本掃描並且擁有明確授權，可以到附錄閱讀這些進階技術。\n",
    "\n",
    "提示：初學者建議先練習主機發現、連接埠掃描與版本偵測三個步驟，之後再研究附錄的細節。"
   ]
  },
  {
   "cell_type": "markdown",
   "id": "2be1dbc8",
   "metadata": {},
   "source": [
    "## 10. 常用組合指令（簡化）\n",
    "\n",
    "這裡列出幾個對初學者最有用的安全組合指令：\n",
    "- 只做主機發現並把結果存檔：`nmap -sn -oN hostlist.txt 192.168.1.0/24`\n",
    "- 掃描常用埠並偵測版本：`nmap -sV --top-ports 1000 192.168.1.1`\n",
    "- 全面快速檢查（只在授權情況下執行）：`nmap -A 192.168.1.1`\n",
    "\n",
    "進階的隱蔽或繞過技巧（如分片/誘餌/偽造來源等）已移到附錄。"
   ]
  },
  {
   "cell_type": "markdown",
   "id": "046f2734",
   "metadata": {},
   "source": [
    "## 11. 實用腳本範例\n",
    "\n",
    "### 11.1 常用 NSE 腳本類別\n",
    "```bash\n",
    "# 預設腳本（安全且實用）\n",
    "nmap -sC 192.168.1.1\n",
    "\n",
    "# 漏洞檢測腳本\n",
    "nmap --script vuln 192.168.1.1\n",
    "\n",
    "# 惡意軟體檢測\n",
    "nmap --script malware 192.168.1.1\n",
    "\n",
    "# 暴力破解腳本\n",
    "nmap --script brute 192.168.1.1\n",
    "\n",
    "# 服務發現腳本\n",
    "nmap --script discovery 192.168.1.1\n",
    "```\n",
    "\n",
    "### 11.2 特定服務腳本\n",
    "```bash\n",
    "# HTTP 相關\n",
    "nmap --script http-enum 192.168.1.1\n",
    "nmap --script http-headers 192.168.1.1\n",
    "nmap --script http-methods 192.168.1.1\n",
    "\n",
    "# FTP 相關\n",
    "nmap --script ftp-anon,ftp-bounce,ftp-proftpd-backdoor 192.168.1.1\n",
    "\n",
    "# SSH 相關  \n",
    "nmap --script ssh-hostkey,ssh-auth-methods 192.168.1.1\n",
    "\n",
    "# DNS 相關\n",
    "nmap --script dns-zone-transfer 192.168.1.1\n",
    "```"
   ]
  },
  {
   "cell_type": "markdown",
   "id": "5dce254c",
   "metadata": {},
   "source": [
    "## 12. 輸出解讀\n",
    "\n",
    "### 12.1 連接埠狀態\n",
    "- **open**: 連接埠開放且有服務在監聽\n",
    "- **closed**: 連接埠關閉但可達\n",
    "- **filtered**: 連接埠被防火牆過濾，無法確定狀態\n",
    "- **unfiltered**: 連接埠可達但無法確定開放或關閉\n",
    "- **open|filtered**: 無法確定是開放還是被過濾\n",
    "- **closed|filtered**: 無法確定是關閉還是被過濾\n",
    "\n",
    "### 12.2 服務偵測輸出範例\n",
    "```\n",
    "22/tcp   open  ssh     OpenSSH 7.4 (protocol 2.0)\n",
    "80/tcp   open  http    Apache httpd 2.4.6\n",
    "443/tcp  open  https   Apache httpd 2.4.6 ((CentOS) OpenSSL/1.0.2k-fips)\n",
    "```\n",
    "\n",
    "### 12.3 作業系統偵測範例\n",
    "```\n",
    "Running: Linux 3.X|4.X\n",
    "OS CPE: cpe:/o:linux:linux_kernel:3 cpe:/o:linux:linux_kernel:4\n",
    "OS details: Linux 3.2 - 4.9\n",
    "```"
   ]
  },
  {
   "cell_type": "markdown",
   "id": "95c64f6b",
   "metadata": {},
   "source": [
    "## 13. 實際範例與練習\n",
    "\n",
    "### 範例 1: 網路設備發現\n",
    "目標：找出網路中的活躍設備"
   ]
  },
  {
   "cell_type": "code",
   "execution_count": null,
   "id": "26ecd71b",
   "metadata": {
    "vscode": {
     "languageId": "bash"
    }
   },
   "outputs": [],
   "source": [
    "# 範例 1: 探索本地網路中的活躍主機（可直接執行）\n",
    "# 請將 192.168.1.0/24 替換為您的網段，例如 192.168.50.0/24\n",
    "\n",
    "# 只做主機發現（不掃描埠）\n",
    "nmap -sn 192.168.1.0/24\n",
    "\n",
    "# 常用的快速埠掃描（只掃常見的 100 個埠）\n",
    "nmap -F 192.168.1.1\n",
    "\n",
    "# 若要把結果存成檔案：\n",
    "nmap -oN hostlist.txt -sn 192.168.1.0/24"
   ]
  },
  {
   "cell_type": "markdown",
   "id": "74cdcdf6",
   "metadata": {},
   "source": [
    "### 範例 2: 服務版本偵測"
   ]
  },
  {
   "cell_type": "code",
   "execution_count": null,
   "id": "07a2db73",
   "metadata": {
    "vscode": {
     "languageId": "bash"
    }
   },
   "outputs": [],
   "source": [
    "# 範例 2: 詳細的服務版本偵測\n",
    "echo \"=== 服務版本偵測範例 ===\"\n",
    "\n",
    "# 掃描常用連接埠並偵測服務版本\n",
    "# nmap -sV --version-intensity 5 -p 21,22,23,25,53,80,110,443,993,995 scanme.nmap.org\n",
    "\n",
    "echo \"這個指令會：\"\n",
    "echo \"1. 掃描指定的常用連接埠\"\n",
    "echo \"2. 偵測服務版本（強度等級 5）\"\n",
    "echo \"3. 嘗試識別服務的具體版本號\"\n",
    "\n",
    "echo \"\"\n",
    "echo \"=== 作業系統偵測 ===\"\n",
    "# nmap -O --osscan-guess scanme.nmap.org\n",
    "\n",
    "echo \"這會嘗試識別目標的作業系統\""
   ]
  },
  {
   "cell_type": "markdown",
   "id": "2589ef3b",
   "metadata": {},
   "source": [
    "### 範例 3: 腳本掃描"
   ]
  },
  {
   "cell_type": "code",
   "execution_count": null,
   "id": "01976b36",
   "metadata": {
    "vscode": {
     "languageId": "bash"
    }
   },
   "outputs": [],
   "source": [
    "# 範例 3: 使用 NSE 腳本進行深度掃描\n",
    "echo \"=== NSE 腳本掃描範例 ===\"\n",
    "\n",
    "# 使用預設腳本掃描\n",
    "# nmap -sC scanme.nmap.org\n",
    "\n",
    "echo \"預設腳本包括：\"\n",
    "echo \"- 服務枚舉\"\n",
    "echo \"- 安全檢查\"\n",
    "echo \"- 版本偵測增強\"\n",
    "\n",
    "echo \"\"\n",
    "echo \"=== 漏洞掃描 ===\"\n",
    "# nmap --script vuln scanme.nmap.org\n",
    "\n",
    "echo \"漏洞掃描會檢查：\"\n",
    "echo \"- 已知的CVE漏洞\"\n",
    "echo \"- 常見的錯誤配置\"\n",
    "echo \"- 弱密碼或預設憑證\"\n",
    "\n",
    "echo \"\"\n",
    "echo \"=== HTTP 服務詳細掃描 ===\"\n",
    "# nmap --script http-enum,http-headers,http-methods,http-title -p 80,443 scanme.nmap.org\n",
    "\n",
    "echo \"HTTP 掃描包括：\"\n",
    "echo \"- 目錄和檔案枚舉\"\n",
    "echo \"- HTTP 標頭分析\"\n",
    "echo \"- 支援的 HTTP 方法\"\n",
    "echo \"- 網頁標題獲取\""
   ]
  },
  {
   "cell_type": "markdown",
   "id": "f885e6f0",
   "metadata": {},
   "source": [
    "## 14. 安全注意事項\n",
    "\n",
    "### 14.1 法律和道德考量\n",
    "- ⚠️ **僅在您擁有或獲得明確授權的系統上使用 nmap**\n",
    "- ⚠️ **未經授權的網路掃描可能違法**\n",
    "- ⚠️ **某些掃描技術可能被視為攻擊行為**\n",
    "\n",
    "### 14.2 最佳實踐\n",
    "1. **獲得書面授權**：在掃描任何網路之前\n",
    "2. **使用適當的時機**：避免在業務高峰時段掃描\n",
    "3. **限制掃描範圍**：只掃描必要的目標和連接埠\n",
    "4. **記錄所有活動**：保持掃描日誌用於審計\n",
    "\n",
    "### 14.3 防止被發現\n",
    "```bash\n",
    "# 使用較慢的掃描速度\n",
    "nmap -T1 target\n",
    "\n",
    "# 使用隨機化選項\n",
    "nmap --randomize-hosts --scan-delay 5s target\n",
    "\n",
    "# 分散掃描時間\n",
    "# 將大範圍掃描分成多個小批次\n",
    "```"
   ]
  },
  {
   "cell_type": "markdown",
   "id": "7e60ecbd",
   "metadata": {},
   "source": [
    "## 15. 故障排除\n",
    "\n",
    "### 15.1 常見問題\n",
    "```bash\n",
    "# 權限不足\n",
    "sudo nmap -sS target          # 需要 root 權限進行 SYN 掃描\n",
    "\n",
    "# 防火牆阻擋\n",
    "nmap -Pn target              # 跳過 ping，直接掃描連接埠\n",
    "\n",
    "# 掃描速度太慢\n",
    "nmap -T4 --min-rate 1000 target  # 提高掃描速度\n",
    "\n",
    "# 連接逾時\n",
    "nmap --host-timeout 5m target    # 增加主機逾時時間\n",
    "```\n",
    "\n",
    "### 15.2 除錯技巧\n",
    "```bash\n",
    "# 增加詳細輸出\n",
    "nmap -v -d target            # 詳細模式 + 除錯模式\n",
    "\n",
    "# 封包追蹤\n",
    "nmap --packet-trace target   # 顯示發送和接收的封包\n",
    "\n",
    "# 檢查路由\n",
    "nmap --traceroute target     # 顯示到目標的路由路徑\n",
    "```"
   ]
  },
  {
   "cell_type": "markdown",
   "id": "935bd2af",
   "metadata": {},
   "source": [
    "## 16. 總結\n",
    "\n",
    "### 16.1 重點回顧\n",
    "- **基本語法**：`nmap [選項] {目標}`\n",
    "- **主要掃描類型**：`-sS` (SYN), `-sT` (TCP), `-sU` (UDP)\n",
    "- **重要選項**：`-sV` (版本), `-O` (作業系統), `-sC` (腳本)\n",
    "- **輸出控制**：`-v` (詳細), `-oA` (所有格式)\n",
    "\n",
    "### 16.2 學習建議\n",
    "1. **從基本開始**：先掌握基本的掃描指令\n",
    "2. **實際練習**：使用 `scanme.nmap.org` 進行練習\n",
    "3. **閱讀文檔**：`man nmap` 和官方文檔\n",
    "4. **探索腳本**：學習 NSE 腳本的使用\n",
    "\n",
    "### 16.3 進階學習方向\n",
    "- **自訂 NSE 腳本開發**\n",
    "- **與其他工具整合** (如 Metasploit)\n",
    "- **自動化掃描腳本撰寫**\n",
    "- **大規模網路掃描策略**\n",
    "\n",
    "---\n",
    "\n",
    "**記住：nmap 是一個強大的工具，請負責任地使用！**"
   ]
  },
  {
   "cell_type": "markdown",
   "id": "95297c97",
   "metadata": {},
   "source": [
    "# 附錄 - 進階指令（僅供學術與授權測試）\n",
    "\n",
    "> 重要聲明：以下內容屬於進階且可能被視為攻擊性的技術。請僅在你擁有明確書面授權的情況下使用。未經授權使用可能違法，並造成嚴重後果。\n",
    "\n",
    "## 分片技術\n",
    "```bash\n",
    "nmap -f 192.168.1.1               # 使用小分片封包\n",
    "nmap -ff 192.168.1.1              # 使用更小的分片\n",
    "nmap --mtu 24 192.168.1.1         # 自訂 MTU 大小\n",
    "```\n",
    "\n",
    "## 誘餌掃描\n",
    "```bash\n",
    "nmap -D RND:10 192.168.1.1        # 使用 10 個隨機誘餌\n",
    "nmap -D decoy1,decoy2,ME,decoy3 192.168.1.1  # 指定誘餌 IP\n",
    "```\n",
    "\n",
    "## 來源連接埠偽裝\n",
    "```bash\n",
    "nmap --source-port 53 192.168.1.1    # 使用 DNS 連接埠作為來源\n",
    "nmap -g 53 192.168.1.1                # 同上（簡短格式）\n",
    "```\n",
    "\n",
    "## 其他繞過技術\n",
    "```bash\n",
    "nmap --data-length 25 192.168.1.1    # 添加隨機資料到封包\n",
    "nmap --randomize-hosts 192.168.1.0/24  # 隨機化目標順序\n",
    "nmap --spoof-mac 0 192.168.1.1        # 偽造 MAC 地址\n",
    "```\n",
    "\n",
    "## 隱蔽掃描與組合範例\n",
    "```bash\n",
    "# 慢速鬼祟掃描\n",
    "nmap -sS -T1 -f -D RND:10 192.168.1.1\n",
    "\n",
    "# SYN 掃描 + 版本偵測 + 誘餌\n",
    "nmap -sS -sV -D RND:5 -f --randomize-hosts 192.168.1.0/24\n",
    "```\n",
    "\n",
    "---\n",
    "\n",
    "再次強調：僅在授權情況下閱讀與實驗，並保存所有測試紀錄以備查驗。"
   ]
  }
 ],
 "metadata": {
  "language_info": {
   "name": "python"
  }
 },
 "nbformat": 4,
 "nbformat_minor": 5
}
